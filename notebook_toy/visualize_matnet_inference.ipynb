{
 "cells": [
  {
   "cell_type": "code",
   "execution_count": 1,
   "id": "3643688f-aad5-4a42-9034-46522eb2563c",
   "metadata": {},
   "outputs": [],
   "source": [
    "import sys\n",
    "sys.path.append('MatNet-modified/CVRP/CVRP_MatNet')\n",
    "from utility import show_polyline_folium, InferenceManager"
   ]
  },
  {
   "cell_type": "code",
   "execution_count": 2,
   "id": "a6fb1bf8-da5f-401b-ba43-caeecc3a2b8e",
   "metadata": {},
   "outputs": [],
   "source": [
    "import pickle\n",
    "import torch\n",
    "min_coords = torch.Tensor([919557.27446633, 1883094.34362266])\n",
    "max_coords = torch.Tensor([ 986881.66391917, 1976116.0223603 ])\n"
   ]
  },
  {
   "cell_type": "code",
   "execution_count": 8,
   "id": "cbf5f796-8c3e-4520-8b1d-c446a038caf0",
   "metadata": {},
   "outputs": [
    {
     "name": "stdout",
     "output_type": "stream",
     "text": [
      "intermediate_sol_5760.pkl\n",
      "intermediate_sol_7040.pkl\n",
      "intermediate_sol_3520.pkl\n",
      "intermediate_sol_2240.pkl\n",
      "intermediate_sol_1280.pkl\n",
      "intermediate_sol_9440.pkl\n",
      "intermediate_sol_8480.pkl\n",
      "intermediate_sol_8800.pkl\n",
      "intermediate_sol_9600.pkl\n",
      "intermediate_sol_9920.pkl\n",
      "intermediate_sol_2400.pkl\n",
      "intermediate_sol_6560.pkl\n",
      "intermediate_sol_7520.pkl\n",
      "intermediate_sol_800.pkl\n",
      "intermediate_sol_5440.pkl\n",
      "intermediate_sol_9760.pkl\n",
      "intermediate_sol_6720.pkl\n",
      "intermediate_sol_8640.pkl\n",
      "intermediate_sol_960.pkl\n",
      "intermediate_sol_1600.pkl\n",
      "intermediate_sol_3680.pkl\n",
      "intermediate_sol_1440.pkl\n",
      "intermediate_sol_7360.pkl\n",
      "intermediate_sol_7840.pkl\n",
      "intermediate_sol_4000.pkl\n",
      "intermediate_sol_5120.pkl\n",
      "intermediate_sol_6400.pkl\n",
      "intermediate_sol_2720.pkl\n",
      "intermediate_sol_8960.pkl\n",
      "intermediate_sol_8160.pkl\n",
      "intermediate_sol_3840.pkl\n",
      "intermediate_sol_4640.pkl\n",
      "intermediate_sol_4480.pkl\n",
      "intermediate_sol_1760.pkl\n",
      "intermediate_sol_3360.pkl\n",
      "intermediate_sol_4160.pkl\n",
      "intermediate_sol_2080.pkl\n",
      "intermediate_sol_2880.pkl\n",
      "intermediate_sol_6880.pkl\n",
      "intermediate_sol_2560.pkl\n",
      "intermediate_sol_640.pkl\n",
      "intermediate_sol_3200.pkl\n",
      "intermediate_sol_7680.pkl\n",
      "intermediate_sol_6080.pkl\n",
      "intermediate_sol_320.pkl\n",
      "intermediate_sol_1920.pkl\n",
      "intermediate_sol_4960.pkl\n",
      "intermediate_sol_1120.pkl\n",
      "intermediate_sol_6240.pkl\n",
      "intermediate_sol_160.pkl\n",
      "intermediate_sol_4800.pkl\n",
      "intermediate_sol_9120.pkl\n",
      "intermediate_sol_8000.pkl\n",
      "intermediate_sol_8320.pkl\n",
      "intermediate_sol_7200.pkl\n",
      "intermediate_sol_5920.pkl\n",
      "intermediate_sol_5280.pkl\n",
      "intermediate_sol_480.pkl\n",
      "intermediate_sol_4320.pkl\n",
      "intermediate_sol_0.pkl\n",
      "intermediate_sol_9280.pkl\n",
      "intermediate_sol_5600.pkl\n",
      "intermediate_sol_3040.pkl\n"
     ]
    }
   ],
   "source": [
    "import numpy as np\n",
    "import pandas as pd\n",
    "import sys\n",
    "import os\n",
    "sys.path.append('./tms-tmsengine-pythonextension')\n",
    "from app.alns import State\n",
    "from app.alns.operator.mutator.solve_cvrp import cvrp_solver\n",
    "from app.config import ConfigClass\n",
    "from app.utility import show_polyline_folium, transform\n",
    "from app.alns.operator.mutator.reconstructor import greedy_repair\n",
    "table = []\n",
    "folder = '/data/ATSP-modified/result/20220811_115158_test_cvrp_max100'\n",
    "for file in os.listdir(folder):\n",
    "    if not file.endswith('pkl'):\n",
    "        continue\n",
    "    print(file)\n",
    "    with open('{}/{}'.format(folder, file),'rb') as f:\n",
    "    #with open('/home/ec2-user/workspace/shkang/MatNet-modified/ATSP-modified/ATSP_MatNet/result/20220810_104240_atsp_matnet_test/intermediate_sol_140.pkl','rb') as f:\n",
    "        tmp = pickle.load(f)\n",
    "        tmp['problem'] = max_coords-tmp['problem'] *(max_coords-min_coords)\n",
    "        tmp['selected_node'] = tmp['selected_node']\n",
    "        tmp['duration_matrix'] = tmp['duration_matrix']\n",
    "    test = InferenceManager(tmp)\n",
    "    for instance_index in range(20):\n",
    "        result, reward, indices = test.show_best(instance_index)\n",
    "        a=show_polyline_folium(result,utm=True)\n",
    "        length = max(tmp['selected_node'][instance_index][0])+1\n",
    "\n",
    "        coords = [i for i in range(length)] + [0]\n",
    "        distances = np.array(tmp['duration_matrix'][instance_index])[:length,:length].astype('double')\n",
    "        durations = distances\n",
    "        handling_times = [0 for _ in range(length)]\n",
    "        config = ConfigClass(max_iteration=3, early_stopping=6, problem=\"vrp\", huddle=0.0005, step_interval=500,\n",
    "                                  num_paths_to_ruin=2, max_rollout_steps=20000, max_no_improvement_assignment=3,\n",
    "                                  max_no_improvement_tsp=6, max_no_improvement=600, c_dis=1000.0, c_dur=1.0, c_bal=0)\n",
    "        result = list(cvrp_solver(coords, distances, durations, solution=[list(indices)], config=config)[0])\n",
    "        table.append([float(reward),sum([distances[int(result[index])][int(result[index+1])] for index in range(len(result)-1)])])\n",
    "    #print(pd.DataFrame(table))\n",
    "    #break"
   ]
  },
  {
   "cell_type": "code",
   "execution_count": 9,
   "id": "995987dc-0e4e-4e8a-82fe-87f997a227ab",
   "metadata": {},
   "outputs": [
    {
     "data": {
      "text/plain": [
       "0.03067226551621773"
      ]
     },
     "execution_count": 9,
     "metadata": {},
     "output_type": "execute_result"
    }
   ],
   "source": [
    "np.mean(pd.DataFrame(table).apply(lambda x: (x[0]-x[1])/x[1],axis=1))"
   ]
  },
  {
   "cell_type": "code",
   "execution_count": 96,
   "id": "ff9e23cb-1cad-4af6-8c27-6f84dfdda65f",
   "metadata": {},
   "outputs": [],
   "source": [
    "import pickle\n",
    "with open('/data/building_info_lat_lng.pkl','rb') as f:\n",
    "    building_info = pickle.load(f)\n",
    "#building_info"
   ]
  },
  {
   "cell_type": "code",
   "execution_count": 24,
   "id": "7b184134-fe5c-4b6c-8b45-15ee9d963e8b",
   "metadata": {},
   "outputs": [
    {
     "data": {
      "text/plain": [
       "tensor(7144)"
      ]
     },
     "execution_count": 24,
     "metadata": {},
     "output_type": "execute_result"
    }
   ],
   "source": [
    "reward"
   ]
  },
  {
   "cell_type": "code",
   "execution_count": null,
   "id": "ba63048b-3d64-4e14-bbfc-bedee8e144a3",
   "metadata": {},
   "outputs": [],
   "source": []
  }
 ],
 "metadata": {
  "kernelspec": {
   "display_name": "Python 3 (ipykernel)",
   "language": "python",
   "name": "python3"
  },
  "language_info": {
   "codemirror_mode": {
    "name": "ipython",
    "version": 3
   },
   "file_extension": ".py",
   "mimetype": "text/x-python",
   "name": "python",
   "nbconvert_exporter": "python",
   "pygments_lexer": "ipython3",
   "version": "3.9.4"
  }
 },
 "nbformat": 4,
 "nbformat_minor": 5
}
